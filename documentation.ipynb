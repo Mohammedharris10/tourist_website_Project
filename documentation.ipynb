{
 "cells": [
  {
   "cell_type": "markdown",
   "metadata": {},
   "source": [
    "#### Background-position\n",
    "best documentation website for HTMl and CSS: https://developer.mozilla.org/en-US/docs/Web/CSS"
   ]
  },
  {
   "cell_type": "markdown",
   "metadata": {},
   "source": [
    "This Property for to set the position of each img eg: background-position: bottom; img will set bottom of the center"
   ]
  },
  {
   "cell_type": "markdown",
   "metadata": {},
   "source": [
    "### Css Units"
   ]
  },
  {
   "cell_type": "markdown",
   "metadata": {},
   "source": [
    "* 1vw = 1% of viewport width:\n",
    "* 1vmin = 1vw or 1vh, whichever is smaller."
   ]
  },
  {
   "cell_type": "markdown",
   "metadata": {},
   "source": []
  }
 ],
 "metadata": {
  "language_info": {
   "name": "python"
  }
 },
 "nbformat": 4,
 "nbformat_minor": 2
}
